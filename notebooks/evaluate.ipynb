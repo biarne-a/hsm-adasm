{
 "cells": [
  {
   "cell_type": "code",
   "execution_count": 1,
   "metadata": {
    "tags": []
   },
   "outputs": [
    {
     "name": "stdout",
     "output_type": "stream",
     "text": [
      "/Users/adrienbiarnes/Projects/mos\n"
     ]
    }
   ],
   "source": [
    "%cd ~/Projects/mos"
   ]
  },
  {
   "cell_type": "code",
   "execution_count": 2,
   "metadata": {
    "id": "UK9ZGGLdPTno",
    "tags": []
   },
   "outputs": [],
   "source": [
    "import pandas as pd\n",
    "import numpy as np\n",
    "from tqdm import tqdm\n",
    "from collections import defaultdict\n",
    "from typing import Dict, List, Tuple\n",
    "import seaborn as sns\n",
    "import tensorflow as tf\n",
    "import matplotlib.pyplot as plt"
   ]
  },
  {
   "cell_type": "code",
   "execution_count": 3,
   "metadata": {
    "tags": []
   },
   "outputs": [],
   "source": [
    "from mos.train.config import Config\n",
    "from mos.train.datasets import get_data"
   ]
  },
  {
   "cell_type": "code",
   "execution_count": 4,
   "metadata": {
    "tags": []
   },
   "outputs": [
    {
     "name": "stderr",
     "output_type": "stream",
     "text": [
      "2023-07-18 16:49:32.766010: I metal_plugin/src/device/metal_device.cc:1154] Metal device set to: Apple M2 Pro\n",
      "2023-07-18 16:49:32.766032: I metal_plugin/src/device/metal_device.cc:296] systemMemory: 32.00 GB\n",
      "2023-07-18 16:49:32.766040: I metal_plugin/src/device/metal_device.cc:313] maxCacheSize: 10.67 GB\n",
      "2023-07-18 16:49:32.766071: I tensorflow/core/common_runtime/pluggable_device/pluggable_device_factory.cc:303] Could not identify NUMA node of platform GPU ID 0, defaulting to 0. Your kernel may not have been built with NUMA support.\n",
      "2023-07-18 16:49:32.766089: I tensorflow/core/common_runtime/pluggable_device/pluggable_device_factory.cc:269] Created TensorFlow device (/job:localhost/replica:0/task:0/device:GPU:0 with 0 MB memory) -> physical PluggableDevice (device: 0, name: METAL, pci bus id: <undefined>)\n"
     ]
    }
   ],
   "source": [
    "config = Config({\n",
    "    \"data_dir\": \"data\",\n",
    "    \"gcs_dir\": \"gs://ml-25m\",\n",
    "    \"batch_size\": 512,\n",
    "})\n",
    "data = get_data(config)"
   ]
  },
  {
   "cell_type": "code",
   "execution_count": 5,
   "metadata": {
    "id": "cArlIpU6ge3p",
    "tags": []
   },
   "outputs": [],
   "source": [
    "def compute_positive_predictions(filepath: str, nb_test_obs: int) -> pd.DataFrame:\n",
    "    results = defaultdict(list)\n",
    "    with tf.io.gfile.GFile(filepath) as f:\n",
    "        # We skip the header\n",
    "        _ = f.readline()\n",
    "        for i_obs, line in tqdm(enumerate(f.readlines()), total=nb_test_obs):\n",
    "            preds = line.split(\",\")\n",
    "            prev_target = preds[0]\n",
    "            target = preds[1]\n",
    "\n",
    "            predictions = np.array(preds[2:])\n",
    "            repeated_target = np.tile(target, 100)\n",
    "            is_positive = (repeated_target == predictions).sum() > 0\n",
    "\n",
    "            results[\"prev_label\"].append(prev_target)\n",
    "            results[\"label\"].append(target)\n",
    "            results[\"is_positive\"].append(is_positive)\n",
    "\n",
    "    return pd.DataFrame(results, columns=[\"prev_label\", \"label\", \"is_positive\"])"
   ]
  },
  {
   "cell_type": "code",
   "execution_count": 7,
   "metadata": {
    "colab": {
     "base_uri": "https://localhost:8080/"
    },
    "id": "JcNlmuDNge1V",
    "outputId": "95bd2c26-8ef9-45a1-a255-f7f858d9cef6",
    "tags": []
   },
   "outputs": [
    {
     "name": "stderr",
     "output_type": "stream",
     "text": [
      "100%|███████████████████████████████████████████████████████████████████████████████████████████████████████████████████████████████████████████████████████████████████████████████████████████████████████████████████████████████████████████▉| 2982016/2982077 [01:03<00:00, 47249.54it/s]\n"
     ]
    }
   ],
   "source": [
    "pred_df_vanilla_32 = compute_positive_predictions(\"gs://ml-25m/results/predictions_vanilla-sm_32.csv\", data.nb_test)"
   ]
  },
  {
   "cell_type": "code",
   "execution_count": 8,
   "metadata": {
    "tags": []
   },
   "outputs": [
    {
     "name": "stderr",
     "output_type": "stream",
     "text": [
      "100%|███████████████████████████████████████████████████████████████████████████████████████████████████████████████████████████████████████████████████████████████████████████████████████████████████████████████████████████████████████████▉| 2982016/2982077 [01:03<00:00, 47313.33it/s]\n"
     ]
    }
   ],
   "source": [
    "pred_df_mos_32 = compute_positive_predictions(\"gs://ml-25m/results/predictions_mos_4_32.csv\", data.nb_test)"
   ]
  },
  {
   "cell_type": "code",
   "execution_count": 9,
   "metadata": {
    "tags": []
   },
   "outputs": [
    {
     "name": "stderr",
     "output_type": "stream",
     "text": [
      "100%|███████████████████████████████████████████████████████████████████████████████████████████████████████████████████████████████████████████████████████████████████████████████████████████████████████████████████████████████████████████▉| 2982016/2982077 [01:00<00:00, 49142.69it/s]\n"
     ]
    }
   ],
   "source": [
    "pred_df_vanilla_64 = compute_positive_predictions(\"gs://ml-25m/results/predictions_vanilla-sm_64.csv\", data.nb_test)"
   ]
  },
  {
   "cell_type": "code",
   "execution_count": 10,
   "metadata": {
    "tags": []
   },
   "outputs": [
    {
     "name": "stderr",
     "output_type": "stream",
     "text": [
      "100%|███████████████████████████████████████████████████████████████████████████████████████████████████████████████████████████████████████████████████████████████████████████████████████████████████████████████████████████████████████████▉| 2982016/2982077 [01:03<00:00, 46959.73it/s]\n"
     ]
    }
   ],
   "source": [
    "pred_df_mos_64 = compute_positive_predictions(\"gs://ml-25m/results/predictions_mos_4_64.csv\", data.nb_test)"
   ]
  },
  {
   "cell_type": "code",
   "execution_count": 11,
   "metadata": {
    "tags": []
   },
   "outputs": [
    {
     "name": "stderr",
     "output_type": "stream",
     "text": [
      "100%|███████████████████████████████████████████████████████████████████████████████████████████████████████████████████████████████████████████████████████████████████████████████████████████████████████████████████████████████████████████▉| 2982016/2982077 [01:02<00:00, 47891.71it/s]\n"
     ]
    }
   ],
   "source": [
    "pred_df_vanilla_128 = compute_positive_predictions(\"gs://ml-25m/results/predictions_vanilla-sm_128.csv\", data.nb_test)"
   ]
  },
  {
   "cell_type": "code",
   "execution_count": 12,
   "metadata": {
    "tags": []
   },
   "outputs": [
    {
     "name": "stderr",
     "output_type": "stream",
     "text": [
      "100%|███████████████████████████████████████████████████████████████████████████████████████████████████████████████████████████████████████████████████████████████████████████████████████████████████████████████████████████████████████████▉| 2982016/2982077 [01:02<00:00, 47565.74it/s]\n"
     ]
    }
   ],
   "source": [
    "pred_df_mos_128 = compute_positive_predictions(\"gs://ml-25m/results/predictions_mos_4_128.csv\", data.nb_test)"
   ]
  },
  {
   "cell_type": "code",
   "execution_count": 13,
   "metadata": {
    "id": "MzUNUz_vgewP",
    "tags": []
   },
   "outputs": [],
   "source": [
    "def compute_metrics_by_view_count_buckets(pred_df: pd.DataFrame, movie_id_counts: Dict[str, int], quantiles: List[float] = None) -> pd.DataFrame:\n",
    "    \"\"\"\n",
    "    Compute metrics with a breakdown by views count\n",
    "    :param pred_df: The predictions on the evaluation dataset\n",
    "    :param movie_id_counts: A dictionary with the number of observations to be found in the training dataset for any movie\n",
    "    \"\"\"\n",
    "    def get_count(movie_id):\n",
    "        return movie_id_counts.get(str(movie_id), 0)\n",
    "\n",
    "    pred_df[\"views_count\"] = np.vectorize(get_count)(pred_df[\"label\"]).astype(np.int32)\n",
    "    \n",
    "    if not quantiles:\n",
    "        quantiles = [0, .25, .5, .75, 1.]\n",
    "    pred_df[\"views_count_bin\"] = pd.qcut(pred_df[\"views_count\"], quantiles, precision=0)\n",
    "    \n",
    "    def restyle_bin(b):\n",
    "        if b.left < 0:\n",
    "            return pd.Interval(0, int(b.right), closed=\"both\")\n",
    "        return pd.Interval(int(b.left), int(b.right), closed=\"right\")\n",
    "    pred_df[\"views_count_bin\"] = pred_df[\"views_count_bin\"].apply(restyle_bin)\n",
    "\n",
    "    metrics_by_views_bucket = defaultdict(list)\n",
    "    views_count_bins = sorted(pred_df[\"views_count_bin\"].unique())\n",
    "    for i_bin, views_count_bin in enumerate(views_count_bins):\n",
    "        pred_bin = pred_df[pred_df[\"views_count_bin\"] == views_count_bin]\n",
    "        metrics_by_views_bucket[\"views_count_bin\"].append(views_count_bin)\n",
    "        metrics_by_views_bucket[\"views_count\"].append(len(pred_bin))\n",
    "        metrics_by_views_bucket[\"Recall@100\"].append(pred_bin[\"is_positive\"].sum() / len(pred_bin))\n",
    "\n",
    "    return pd.DataFrame(metrics_by_views_bucket)"
   ]
  },
  {
   "cell_type": "code",
   "execution_count": 14,
   "metadata": {
    "id": "TmiTb14Cl0A-",
    "tags": []
   },
   "outputs": [],
   "source": [
    "def compute_all_metrics_by_view_counts(pred_df_list: List[Tuple[pd.DataFrame, str]], quantiles: List[float] = None):\n",
    "    all_metrics_dfs = []\n",
    "    for pred_df, sm_name in pred_df_list:\n",
    "        metrics_by_nb_views_df = compute_metrics_by_view_count_buckets(pred_df, data.movie_id_counts, quantiles)\n",
    "        metrics_by_nb_views_df[\"softmax_type\"] = sm_name\n",
    "        all_metrics_dfs.append(metrics_by_nb_views_df)\n",
    "\n",
    "    return pd.concat(all_metrics_dfs)"
   ]
  },
  {
   "cell_type": "code",
   "execution_count": 15,
   "metadata": {
    "colab": {
     "base_uri": "https://localhost:8080/",
     "height": 173
    },
    "id": "oRAf0Hswlzts",
    "outputId": "49d2a26e-c352-42cc-c633-a276e7909dce",
    "tags": []
   },
   "outputs": [],
   "source": [
    "pred_df_list = [\n",
    "    (pred_df_vanilla_32, \"vanilla-32\"),\n",
    "    (pred_df_mos_32, \"mos-32\"),\n",
    "    (pred_df_vanilla_64, \"vanilla-64\"),\n",
    "    (pred_df_mos_64, \"mos-64\"),\n",
    "    (pred_df_vanilla_128, \"vanilla-128\"),\n",
    "    (pred_df_mos_128, \"mos-128\"),\n",
    "]\n",
    "metrics_by_nb_views_df = compute_all_metrics_by_view_counts(pred_df_list, quantiles=[0, 1])"
   ]
  },
  {
   "cell_type": "code",
   "execution_count": 16,
   "metadata": {
    "tags": []
   },
   "outputs": [
    {
     "data": {
      "text/html": [
       "<div>\n",
       "<style scoped>\n",
       "    .dataframe tbody tr th:only-of-type {\n",
       "        vertical-align: middle;\n",
       "    }\n",
       "\n",
       "    .dataframe tbody tr th {\n",
       "        vertical-align: top;\n",
       "    }\n",
       "\n",
       "    .dataframe thead th {\n",
       "        text-align: right;\n",
       "    }\n",
       "</style>\n",
       "<table border=\"1\" class=\"dataframe\">\n",
       "  <thead>\n",
       "    <tr style=\"text-align: right;\">\n",
       "      <th></th>\n",
       "      <th>softmax_type</th>\n",
       "      <th>Recall@100</th>\n",
       "    </tr>\n",
       "  </thead>\n",
       "  <tbody>\n",
       "    <tr>\n",
       "      <th>0</th>\n",
       "      <td>vanilla-32</td>\n",
       "      <td>0.836285</td>\n",
       "    </tr>\n",
       "    <tr>\n",
       "      <th>0</th>\n",
       "      <td>mos-32</td>\n",
       "      <td>0.837041</td>\n",
       "    </tr>\n",
       "    <tr>\n",
       "      <th>0</th>\n",
       "      <td>vanilla-64</td>\n",
       "      <td>0.854066</td>\n",
       "    </tr>\n",
       "    <tr>\n",
       "      <th>0</th>\n",
       "      <td>mos-64</td>\n",
       "      <td>0.856911</td>\n",
       "    </tr>\n",
       "    <tr>\n",
       "      <th>0</th>\n",
       "      <td>vanilla-128</td>\n",
       "      <td>0.865628</td>\n",
       "    </tr>\n",
       "    <tr>\n",
       "      <th>0</th>\n",
       "      <td>mos-128</td>\n",
       "      <td>0.868344</td>\n",
       "    </tr>\n",
       "  </tbody>\n",
       "</table>\n",
       "</div>"
      ],
      "text/plain": [
       "  softmax_type  Recall@100\n",
       "0   vanilla-32    0.836285\n",
       "0       mos-32    0.837041\n",
       "0   vanilla-64    0.854066\n",
       "0       mos-64    0.856911\n",
       "0  vanilla-128    0.865628\n",
       "0      mos-128    0.868344"
      ]
     },
     "execution_count": 16,
     "metadata": {},
     "output_type": "execute_result"
    }
   ],
   "source": [
    "metrics_by_nb_views_df[[\"softmax_type\", \"Recall@100\"]]"
   ]
  },
  {
   "cell_type": "code",
   "execution_count": 19,
   "metadata": {
    "tags": []
   },
   "outputs": [
    {
     "name": "stdout",
     "output_type": "stream",
     "text": [
      "increase_32: 0.090\n",
      "increase_64: 0.333\n",
      "increase_128: 0.314\n"
     ]
    }
   ],
   "source": [
    "recall_32_vanilla = metrics_by_nb_views_df.loc[metrics_by_nb_views_df[\"softmax_type\"] == \"vanilla-32\", \"Recall@100\"].values[0]\n",
    "recall_32_mos = metrics_by_nb_views_df.loc[metrics_by_nb_views_df[\"softmax_type\"] == \"mos-32\", \"Recall@100\"].values[0]\n",
    "recall_64_vanilla = metrics_by_nb_views_df.loc[metrics_by_nb_views_df[\"softmax_type\"] == \"vanilla-64\", \"Recall@100\"].values[0]\n",
    "recall_64_mos = metrics_by_nb_views_df.loc[metrics_by_nb_views_df[\"softmax_type\"] == \"mos-64\", \"Recall@100\"].values[0]\n",
    "recall_128_vanilla = metrics_by_nb_views_df.loc[metrics_by_nb_views_df[\"softmax_type\"] == \"vanilla-128\", \"Recall@100\"].values[0]\n",
    "recall_128_mos = metrics_by_nb_views_df.loc[metrics_by_nb_views_df[\"softmax_type\"] == \"mos-128\", \"Recall@100\"].values[0]\n",
    "\n",
    "increase_32 = ((recall_32_mos - recall_32_vanilla) / recall_32_vanilla) * 100\n",
    "increase_64 = ((recall_64_mos - recall_64_vanilla) / recall_64_vanilla) * 100\n",
    "increase_128 = ((recall_128_mos - recall_128_vanilla) / recall_128_vanilla) * 100\n",
    "print(f\"increase_32: {increase_32:.3f}\")\n",
    "print(f\"increase_64: {increase_64:.3f}\")\n",
    "print(f\"increase_128: {increase_128:.3f}\")"
   ]
  },
  {
   "cell_type": "code",
   "execution_count": 20,
   "metadata": {
    "tags": []
   },
   "outputs": [
    {
     "data": {
      "image/png": "[encoded data removed]",
      "text/plain": [
       "<Figure size 640x480 with 1 Axes>"
      ]
     },
     "metadata": {},
     "output_type": "display_data"
    }
   ],
   "source": [
    "ax=sns.barplot(data=metrics_by_nb_views_df, x=\"softmax_type\", y=\"Recall@100\")\n",
    "ax.set_xlabel(\"Softmax type\")\n",
    "ax.figure.savefig(\"recall-per-softmax-type-and-dim.png\")"
   ]
  },
  {
   "cell_type": "code",
   "execution_count": 21,
   "metadata": {
    "tags": []
   },
   "outputs": [],
   "source": [
    "metrics_by_nb_views_df = compute_all_metrics_by_view_counts(pred_df_list)"
   ]
  },
  {
   "cell_type": "code",
   "execution_count": 22,
   "metadata": {
    "tags": []
   },
   "outputs": [
    {
     "data": {
      "image/png": "[encoded data removed]",
      "text/plain": [
       "<Figure size 640x480 with 1 Axes>"
      ]
     },
     "metadata": {},
     "output_type": "display_data"
    }
   ],
   "source": [
    "ax=sns.barplot(data=metrics_by_nb_views_df, x=\"views_count_bin\", y=\"Recall@100\", hue=\"softmax_type\")\n",
    "ax.set_xlabel(\"Views count bin\")\n",
    "plt.xticks(rotation=50)\n",
    "plt.tight_layout()\n",
    "ax.figure.savefig(\"recall-breakdown-by-nb-obs.png\")"
   ]
  },
  {
   "cell_type": "code",
   "execution_count": 23,
   "metadata": {
    "id": "vxds2J-PtLv3",
    "tags": []
   },
   "outputs": [],
   "source": [
    "import pickle\n",
    "import tensorflow as tf\n",
    "sims_np = pickle.load(tf.io.gfile.GFile(\"gs://ml-25m/movie_sims_matrix.p\", \"rb\"))"
   ]
  },
  {
   "cell_type": "code",
   "execution_count": 24,
   "metadata": {
    "colab": {
     "base_uri": "https://localhost:8080/"
    },
    "id": "cm8eJ540txlG",
    "outputId": "35c3b5d9-1ed1-4ead-c9d0-14e96a5e5ba8",
    "tags": []
   },
   "outputs": [
    {
     "data": {
      "text/plain": [
       "array([[1.      , 0.2502  , 0.243   , ..., 0.00379 , 0.00379 , 0.00379 ],\n",
       "       [0.2502  , 1.      , 0.6875  , ..., 0.01226 , 0.01226 , 0.01226 ],\n",
       "       [0.243   , 0.6875  , 0.9995  , ..., 0.012764, 0.012764, 0.012764],\n",
       "       ...,\n",
       "       [0.00379 , 0.01226 , 0.012764, ..., 1.      , 1.      , 1.      ],\n",
       "       [0.00379 , 0.01226 , 0.012764, ..., 1.      , 1.      , 1.      ],\n",
       "       [0.00379 , 0.01226 , 0.012764, ..., 1.      , 1.      , 1.      ]],\n",
       "      dtype=float16)"
      ]
     },
     "execution_count": 24,
     "metadata": {},
     "output_type": "execute_result"
    }
   ],
   "source": [
    "sims_np"
   ]
  },
  {
   "cell_type": "code",
   "execution_count": 25,
   "metadata": {
    "tags": []
   },
   "outputs": [],
   "source": [
    "ratings_df = pd.read_csv(\"gs://ml-25m/ratings.csv\", sep=\",\", encoding=\"unicode_escape\")"
   ]
  },
  {
   "cell_type": "code",
   "execution_count": 26,
   "metadata": {
    "tags": []
   },
   "outputs": [],
   "source": [
    "first_test_timestamp = 1499856234\n",
    "train_ratings_df = ratings_df[ratings_df[\"timestamp\"] < first_test_timestamp]\n",
    "train_ratings_df = train_ratings_df[train_ratings_df[\"rating\"] >= 2]"
   ]
  },
  {
   "cell_type": "code",
   "execution_count": 27,
   "metadata": {
    "tags": []
   },
   "outputs": [
    {
     "data": {
      "text/plain": [
       "userId         147150\n",
       "movieId         39803\n",
       "rating              7\n",
       "timestamp    16258109\n",
       "dtype: int64"
      ]
     },
     "execution_count": 27,
     "metadata": {},
     "output_type": "execute_result"
    }
   ],
   "source": [
    "train_ratings_df.nunique()"
   ]
  },
  {
   "cell_type": "code",
   "execution_count": 28,
   "metadata": {
    "tags": []
   },
   "outputs": [],
   "source": [
    "movie_2_idx = {movie_id: idx for idx, movie_id in enumerate(train_ratings_df[\"movieId\"].unique())}"
   ]
  },
  {
   "cell_type": "code",
   "execution_count": 29,
   "metadata": {
    "id": "SabRRvz6gedH",
    "tags": []
   },
   "outputs": [],
   "source": [
    "def compute_metrics_by_movie_distance_buckets(pred_df: pd.DataFrame,\n",
    "                                              movie_sims_mat: np.array,\n",
    "                                              movie_2_idx: Dict[int, int]) -> pd.DataFrame:\n",
    "    \"\"\"\n",
    "    Compute metrics with a breakdown by views count\n",
    "    :param pred_df: The predictions on the evaluation dataset\n",
    "    :param movie_id_counts: A dictionary with the number of observations to be found in the training dataset for any movie\n",
    "    \"\"\"\n",
    "    def get_distance(prev_movie_id, movie_id):\n",
    "        if prev_movie_id not in movie_2_idx or movie_id not in movie_2_idx:\n",
    "            return 1.0\n",
    "        prev_movie_idx = movie_2_idx[prev_movie_id]\n",
    "        movie_idx = movie_2_idx[movie_id]\n",
    "        return 1.0 - movie_sims_mat[prev_movie_idx, movie_idx]\n",
    "\n",
    "    pred_df[\"movies_distance\"] = np.vectorize(get_distance)(pred_df[\"prev_label\"].astype(int), pred_df[\"label\"].astype(int)).astype(np.float32)\n",
    "\n",
    "    quantiles = [0, .25, .5, .75, 1.]\n",
    "    pred_df[\"movies_distance_bin\"] = pd.qcut(pred_df[\"movies_distance\"], quantiles, precision=2)\n",
    "    \n",
    "    def restyle_bin(b):\n",
    "        if b.left < 0:\n",
    "            return pd.Interval(0, b.right, closed=\"both\")\n",
    "        return b\n",
    "    pred_df[\"movies_distance_bin\"] = pred_df[\"movies_distance_bin\"].apply(restyle_bin)\n",
    "\n",
    "    metrics_by_bucket = defaultdict(list)\n",
    "    movies_distance_bins = sorted(pred_df[\"movies_distance_bin\"].unique())\n",
    "    for i_bin, movies_distance_bin in enumerate(movies_distance_bins):\n",
    "        pred_bin = pred_df[pred_df[\"movies_distance_bin\"] == movies_distance_bin]\n",
    "        metrics_by_bucket[\"movies_distance_bin\"].append(movies_distance_bin)\n",
    "        metrics_by_bucket[\"views_count\"].append(len(pred_bin))\n",
    "        metrics_by_bucket[\"Recall@100\"].append(pred_bin[\"is_positive\"].sum() / len(pred_bin))\n",
    "\n",
    "    return pd.DataFrame(metrics_by_bucket)"
   ]
  },
  {
   "cell_type": "code",
   "execution_count": 30,
   "metadata": {
    "id": "WYp9Z5yz1_zv",
    "tags": []
   },
   "outputs": [],
   "source": [
    "metrics_by_movies_distance_df_vanilla_32 = compute_metrics_by_movie_distance_buckets(pred_df_vanilla_32, sims_np, movie_2_idx)\n",
    "metrics_by_movies_distance_df_mos_32 = compute_metrics_by_movie_distance_buckets(pred_df_mos_32, sims_np, movie_2_idx)\n",
    "metrics_by_movies_distance_df_vanilla_64 = compute_metrics_by_movie_distance_buckets(pred_df_vanilla_64, sims_np, movie_2_idx)\n",
    "metrics_by_movies_distance_df_mos_64 = compute_metrics_by_movie_distance_buckets(pred_df_mos_64, sims_np, movie_2_idx)\n",
    "metrics_by_movies_distance_df_vanilla_128 = compute_metrics_by_movie_distance_buckets(pred_df_vanilla_128, sims_np, movie_2_idx)\n",
    "metrics_by_movies_distance_df_mos_128 = compute_metrics_by_movie_distance_buckets(pred_df_mos_128, sims_np, movie_2_idx)"
   ]
  },
  {
   "cell_type": "code",
   "execution_count": 31,
   "metadata": {
    "tags": []
   },
   "outputs": [],
   "source": [
    "metrics_by_movies_distance_df_vanilla_32[\"softmax_type\"] = \"vanilla-32\"\n",
    "metrics_by_movies_distance_df_mos_32[\"softmax_type\"] = \"mos-32\"\n",
    "metrics_by_movies_distance_df_vanilla_64[\"softmax_type\"] = \"vanilla-64\"\n",
    "metrics_by_movies_distance_df_mos_64[\"softmax_type\"] = \"mos-64\"\n",
    "metrics_by_movies_distance_df_vanilla_128[\"softmax_type\"] = \"vanilla-128\"\n",
    "metrics_by_movies_distance_df_mos_128[\"softmax_type\"] = \"mos-128\"\n",
    "metrics_by_movies_distance_df = pd.concat((\n",
    "    metrics_by_movies_distance_df_vanilla_32,\n",
    "    metrics_by_movies_distance_df_mos_32,\n",
    "    metrics_by_movies_distance_df_vanilla_64,\n",
    "    metrics_by_movies_distance_df_mos_64,\n",
    "    metrics_by_movies_distance_df_vanilla_128,\n",
    "    metrics_by_movies_distance_df_mos_128,\n",
    "))"
   ]
  },
  {
   "cell_type": "code",
   "execution_count": 32,
   "metadata": {
    "tags": []
   },
   "outputs": [
    {
     "data": {
      "text/html": [
       "<div>\n",
       "<style scoped>\n",
       "    .dataframe tbody tr th:only-of-type {\n",
       "        vertical-align: middle;\n",
       "    }\n",
       "\n",
       "    .dataframe tbody tr th {\n",
       "        vertical-align: top;\n",
       "    }\n",
       "\n",
       "    .dataframe thead th {\n",
       "        text-align: right;\n",
       "    }\n",
       "</style>\n",
       "<table border=\"1\" class=\"dataframe\">\n",
       "  <thead>\n",
       "    <tr style=\"text-align: right;\">\n",
       "      <th></th>\n",
       "      <th>movies_distance_bin</th>\n",
       "      <th>views_count</th>\n",
       "      <th>Recall@100</th>\n",
       "      <th>softmax_type</th>\n",
       "    </tr>\n",
       "  </thead>\n",
       "  <tbody>\n",
       "    <tr>\n",
       "      <th>0</th>\n",
       "      <td>[0, 0.66]</td>\n",
       "      <td>746613</td>\n",
       "      <td>0.976231</td>\n",
       "      <td>vanilla-32</td>\n",
       "    </tr>\n",
       "    <tr>\n",
       "      <th>1</th>\n",
       "      <td>(0.66, 0.78]</td>\n",
       "      <td>744874</td>\n",
       "      <td>0.960043</td>\n",
       "      <td>vanilla-32</td>\n",
       "    </tr>\n",
       "    <tr>\n",
       "      <th>2</th>\n",
       "      <td>(0.78, 0.89]</td>\n",
       "      <td>745296</td>\n",
       "      <td>0.916392</td>\n",
       "      <td>vanilla-32</td>\n",
       "    </tr>\n",
       "    <tr>\n",
       "      <th>3</th>\n",
       "      <td>(0.89, 1.0]</td>\n",
       "      <td>745233</td>\n",
       "      <td>0.492266</td>\n",
       "      <td>vanilla-32</td>\n",
       "    </tr>\n",
       "    <tr>\n",
       "      <th>0</th>\n",
       "      <td>[0, 0.66]</td>\n",
       "      <td>746613</td>\n",
       "      <td>0.981162</td>\n",
       "      <td>mos-32</td>\n",
       "    </tr>\n",
       "    <tr>\n",
       "      <th>1</th>\n",
       "      <td>(0.66, 0.78]</td>\n",
       "      <td>744874</td>\n",
       "      <td>0.965281</td>\n",
       "      <td>mos-32</td>\n",
       "    </tr>\n",
       "    <tr>\n",
       "      <th>2</th>\n",
       "      <td>(0.78, 0.89]</td>\n",
       "      <td>745296</td>\n",
       "      <td>0.919031</td>\n",
       "      <td>mos-32</td>\n",
       "    </tr>\n",
       "    <tr>\n",
       "      <th>3</th>\n",
       "      <td>(0.89, 1.0]</td>\n",
       "      <td>745233</td>\n",
       "      <td>0.482477</td>\n",
       "      <td>mos-32</td>\n",
       "    </tr>\n",
       "    <tr>\n",
       "      <th>0</th>\n",
       "      <td>[0, 0.66]</td>\n",
       "      <td>746613</td>\n",
       "      <td>0.985057</td>\n",
       "      <td>vanilla-64</td>\n",
       "    </tr>\n",
       "    <tr>\n",
       "      <th>1</th>\n",
       "      <td>(0.66, 0.78]</td>\n",
       "      <td>744874</td>\n",
       "      <td>0.971787</td>\n",
       "      <td>vanilla-64</td>\n",
       "    </tr>\n",
       "    <tr>\n",
       "      <th>2</th>\n",
       "      <td>(0.78, 0.89]</td>\n",
       "      <td>745296</td>\n",
       "      <td>0.935328</td>\n",
       "      <td>vanilla-64</td>\n",
       "    </tr>\n",
       "    <tr>\n",
       "      <th>3</th>\n",
       "      <td>(0.89, 1.0]</td>\n",
       "      <td>745233</td>\n",
       "      <td>0.523898</td>\n",
       "      <td>vanilla-64</td>\n",
       "    </tr>\n",
       "    <tr>\n",
       "      <th>0</th>\n",
       "      <td>[0, 0.66]</td>\n",
       "      <td>746613</td>\n",
       "      <td>0.987504</td>\n",
       "      <td>mos-64</td>\n",
       "    </tr>\n",
       "    <tr>\n",
       "      <th>1</th>\n",
       "      <td>(0.66, 0.78]</td>\n",
       "      <td>744874</td>\n",
       "      <td>0.976025</td>\n",
       "      <td>mos-64</td>\n",
       "    </tr>\n",
       "    <tr>\n",
       "      <th>2</th>\n",
       "      <td>(0.78, 0.89]</td>\n",
       "      <td>745296</td>\n",
       "      <td>0.940371</td>\n",
       "      <td>mos-64</td>\n",
       "    </tr>\n",
       "    <tr>\n",
       "      <th>3</th>\n",
       "      <td>(0.89, 1.0]</td>\n",
       "      <td>745233</td>\n",
       "      <td>0.523553</td>\n",
       "      <td>mos-64</td>\n",
       "    </tr>\n",
       "    <tr>\n",
       "      <th>0</th>\n",
       "      <td>[0, 0.66]</td>\n",
       "      <td>746613</td>\n",
       "      <td>0.989076</td>\n",
       "      <td>vanilla-128</td>\n",
       "    </tr>\n",
       "    <tr>\n",
       "      <th>1</th>\n",
       "      <td>(0.66, 0.78]</td>\n",
       "      <td>744874</td>\n",
       "      <td>0.978737</td>\n",
       "      <td>vanilla-128</td>\n",
       "    </tr>\n",
       "    <tr>\n",
       "      <th>2</th>\n",
       "      <td>(0.78, 0.89]</td>\n",
       "      <td>745296</td>\n",
       "      <td>0.948344</td>\n",
       "      <td>vanilla-128</td>\n",
       "    </tr>\n",
       "    <tr>\n",
       "      <th>3</th>\n",
       "      <td>(0.89, 1.0]</td>\n",
       "      <td>745233</td>\n",
       "      <td>0.546173</td>\n",
       "      <td>vanilla-128</td>\n",
       "    </tr>\n",
       "    <tr>\n",
       "      <th>0</th>\n",
       "      <td>[0, 0.66]</td>\n",
       "      <td>746613</td>\n",
       "      <td>0.991398</td>\n",
       "      <td>mos-128</td>\n",
       "    </tr>\n",
       "    <tr>\n",
       "      <th>1</th>\n",
       "      <td>(0.66, 0.78]</td>\n",
       "      <td>744874</td>\n",
       "      <td>0.981984</td>\n",
       "      <td>mos-128</td>\n",
       "    </tr>\n",
       "    <tr>\n",
       "      <th>2</th>\n",
       "      <td>(0.78, 0.89]</td>\n",
       "      <td>745296</td>\n",
       "      <td>0.951740</td>\n",
       "      <td>mos-128</td>\n",
       "    </tr>\n",
       "    <tr>\n",
       "      <th>3</th>\n",
       "      <td>(0.89, 1.0]</td>\n",
       "      <td>745233</td>\n",
       "      <td>0.548074</td>\n",
       "      <td>mos-128</td>\n",
       "    </tr>\n",
       "  </tbody>\n",
       "</table>\n",
       "</div>"
      ],
      "text/plain": [
       "  movies_distance_bin  views_count  Recall@100 softmax_type\n",
       "0           [0, 0.66]       746613    0.976231   vanilla-32\n",
       "1        (0.66, 0.78]       744874    0.960043   vanilla-32\n",
       "2        (0.78, 0.89]       745296    0.916392   vanilla-32\n",
       "3         (0.89, 1.0]       745233    0.492266   vanilla-32\n",
       "0           [0, 0.66]       746613    0.981162       mos-32\n",
       "1        (0.66, 0.78]       744874    0.965281       mos-32\n",
       "2        (0.78, 0.89]       745296    0.919031       mos-32\n",
       "3         (0.89, 1.0]       745233    0.482477       mos-32\n",
       "0           [0, 0.66]       746613    0.985057   vanilla-64\n",
       "1        (0.66, 0.78]       744874    0.971787   vanilla-64\n",
       "2        (0.78, 0.89]       745296    0.935328   vanilla-64\n",
       "3         (0.89, 1.0]       745233    0.523898   vanilla-64\n",
       "0           [0, 0.66]       746613    0.987504       mos-64\n",
       "1        (0.66, 0.78]       744874    0.976025       mos-64\n",
       "2        (0.78, 0.89]       745296    0.940371       mos-64\n",
       "3         (0.89, 1.0]       745233    0.523553       mos-64\n",
       "0           [0, 0.66]       746613    0.989076  vanilla-128\n",
       "1        (0.66, 0.78]       744874    0.978737  vanilla-128\n",
       "2        (0.78, 0.89]       745296    0.948344  vanilla-128\n",
       "3         (0.89, 1.0]       745233    0.546173  vanilla-128\n",
       "0           [0, 0.66]       746613    0.991398      mos-128\n",
       "1        (0.66, 0.78]       744874    0.981984      mos-128\n",
       "2        (0.78, 0.89]       745296    0.951740      mos-128\n",
       "3         (0.89, 1.0]       745233    0.548074      mos-128"
      ]
     },
     "execution_count": 32,
     "metadata": {},
     "output_type": "execute_result"
    }
   ],
   "source": [
    "metrics_by_movies_distance_df"
   ]
  },
  {
   "cell_type": "code",
   "execution_count": 33,
   "metadata": {
    "tags": []
   },
   "outputs": [
    {
     "data": {
      "image/png": "[encoded data removed]",
      "text/plain": [
       "<Figure size 640x480 with 1 Axes>"
      ]
     },
     "metadata": {},
     "output_type": "display_data"
    }
   ],
   "source": [
    "ax = sns.barplot(data=metrics_by_movies_distance_df, x=\"movies_distance_bin\", y=\"Recall@100\", hue=\"softmax_type\")\n",
    "ax.set_xlabel(\"Diversity bin\")\n",
    "plt.tight_layout()\n",
    "ax.figure.savefig(\"recall-breakdown-by-diversity.png\")"
   ]
  },
  {
   "cell_type": "code",
   "execution_count": 34,
   "metadata": {
    "colab": {
     "base_uri": "https://localhost:8080/"
    },
    "id": "Rylxqieh3Zky",
    "outputId": "7c51cf0a-68a7-46e1-c3d5-508dd89a6657",
    "tags": []
   },
   "outputs": [],
   "source": [
    "def compute_pivot_metrics(pred_df):\n",
    "    metrics_by_bucket = defaultdict(list)\n",
    "    movies_distance_bins = sorted(pred_df[\"movies_distance_bin\"].unique())\n",
    "    views_count_bins = sorted(pred_df[\"views_count_bin\"].unique())\n",
    "    \n",
    "    for i_bin, movies_distance_bin in enumerate(movies_distance_bins):\n",
    "        for j_bin, views_count_bin in enumerate(views_count_bins):\n",
    "            dist_bin_predicate = pred_df[\"movies_distance_bin\"] == movies_distance_bin\n",
    "            views_bin_predicate = pred_df[\"views_count_bin\"] == views_count_bin\n",
    "            pred_bin = pred_df[dist_bin_predicate & views_bin_predicate]\n",
    "            metrics_by_bucket[\"movies_distance_bin\"].append(movies_distance_bin)\n",
    "            metrics_by_bucket[\"views_count_bin\"].append(views_count_bin)\n",
    "            metrics_by_bucket[\"views_count\"].append(len(pred_bin))\n",
    "            metrics_by_bucket[\"Recall@100\"].append(pred_bin[\"is_positive\"].sum() / len(pred_bin))\n",
    "\n",
    "    metrics_df = pd.DataFrame(metrics_by_bucket)\n",
    "    metrics_pivot_df = pd.pivot_table(metrics_df,\n",
    "                                      values='Recall@100',\n",
    "                                      index=['movies_distance_bin'],\n",
    "                                      columns=['views_count_bin'])\n",
    "\n",
    "    return metrics_pivot_df"
   ]
  },
  {
   "cell_type": "code",
   "execution_count": 35,
   "metadata": {
    "id": "ac8KHuILK55H",
    "tags": []
   },
   "outputs": [],
   "source": [
    "metrics_pivot_df_vanilla_32 = compute_pivot_metrics(pred_df_vanilla_32)\n",
    "metrics_pivot_df_mos_32 = compute_pivot_metrics(pred_df_mos_32)\n",
    "metrics_pivot_df_vanilla_64 = compute_pivot_metrics(pred_df_vanilla_64)\n",
    "metrics_pivot_df_mos_64 = compute_pivot_metrics(pred_df_mos_64)\n",
    "metrics_pivot_df_vanilla_128 = compute_pivot_metrics(pred_df_vanilla_128)\n",
    "metrics_pivot_df_mos_128 = compute_pivot_metrics(pred_df_mos_128)"
   ]
  },
  {
   "cell_type": "code",
   "execution_count": 36,
   "metadata": {
    "tags": []
   },
   "outputs": [
    {
     "data": {
      "text/html": [
       "<div>\n",
       "<style scoped>\n",
       "    .dataframe tbody tr th:only-of-type {\n",
       "        vertical-align: middle;\n",
       "    }\n",
       "\n",
       "    .dataframe tbody tr th {\n",
       "        vertical-align: top;\n",
       "    }\n",
       "\n",
       "    .dataframe thead th {\n",
       "        text-align: right;\n",
       "    }\n",
       "</style>\n",
       "<table border=\"1\" class=\"dataframe\">\n",
       "  <thead>\n",
       "    <tr style=\"text-align: right;\">\n",
       "      <th>views_count_bin</th>\n",
       "      <th>[0, 814]</th>\n",
       "      <th>(814, 4976]</th>\n",
       "      <th>(4976, 13865]</th>\n",
       "      <th>(13865, 71317]</th>\n",
       "    </tr>\n",
       "    <tr>\n",
       "      <th>movies_distance_bin</th>\n",
       "      <th></th>\n",
       "      <th></th>\n",
       "      <th></th>\n",
       "      <th></th>\n",
       "    </tr>\n",
       "  </thead>\n",
       "  <tbody>\n",
       "    <tr>\n",
       "      <th>[0, 0.66]</th>\n",
       "      <td>1.001581</td>\n",
       "      <td>-0.166931</td>\n",
       "      <td>0.395916</td>\n",
       "      <td>0.624993</td>\n",
       "    </tr>\n",
       "    <tr>\n",
       "      <th>(0.66, 0.78]</th>\n",
       "      <td>-2.119825</td>\n",
       "      <td>0.159360</td>\n",
       "      <td>0.855424</td>\n",
       "      <td>0.813707</td>\n",
       "    </tr>\n",
       "    <tr>\n",
       "      <th>(0.78, 0.89]</th>\n",
       "      <td>-1.375775</td>\n",
       "      <td>0.348070</td>\n",
       "      <td>1.327692</td>\n",
       "      <td>0.807076</td>\n",
       "    </tr>\n",
       "    <tr>\n",
       "      <th>(0.89, 1.0]</th>\n",
       "      <td>-4.390183</td>\n",
       "      <td>0.621441</td>\n",
       "      <td>1.401688</td>\n",
       "      <td>0.908680</td>\n",
       "    </tr>\n",
       "  </tbody>\n",
       "</table>\n",
       "</div>"
      ],
      "text/plain": [
       "views_count_bin      [0, 814]  (814, 4976]  (4976, 13865]  (13865, 71317]\n",
       "movies_distance_bin                                                      \n",
       "[0, 0.66]            1.001581    -0.166931       0.395916        0.624993\n",
       "(0.66, 0.78]        -2.119825     0.159360       0.855424        0.813707\n",
       "(0.78, 0.89]        -1.375775     0.348070       1.327692        0.807076\n",
       "(0.89, 1.0]         -4.390183     0.621441       1.401688        0.908680"
      ]
     },
     "execution_count": 36,
     "metadata": {},
     "output_type": "execute_result"
    }
   ],
   "source": [
    "improvements_metrics_df_32 = ((metrics_pivot_df_mos_32 - metrics_pivot_df_vanilla_32) / metrics_pivot_df_vanilla_32) * 100\n",
    "improvements_metrics_df_32"
   ]
  },
  {
   "cell_type": "code",
   "execution_count": 258,
   "metadata": {
    "tags": []
   },
   "outputs": [
    {
     "data": {
      "image/png": "[encoded data removed]",
      "text/plain": [
       "<Figure size 640x480 with 2 Axes>"
      ]
     },
     "metadata": {},
     "output_type": "display_data"
    }
   ],
   "source": [
    "plot_improvements_breakdowns(improvements_metrics_df_32, 32)"
   ]
  },
  {
   "cell_type": "code",
   "execution_count": 273,
   "metadata": {
    "tags": []
   },
   "outputs": [],
   "source": [
    "improvements_metrics_df_64 = ((metrics_pivot_df_mos_64 - metrics_pivot_df_vanilla_64) / metrics_pivot_df_vanilla_64) * 100"
   ]
  },
  {
   "cell_type": "code",
   "execution_count": 274,
   "metadata": {
    "id": "Lq8Ma4OAOCag"
   },
   "outputs": [
    {
     "data": {
      "image/png": "[encoded data removed]",
      "text/plain": [
       "<Figure size 640x480 with 2 Axes>"
      ]
     },
     "metadata": {},
     "output_type": "display_data"
    }
   ],
   "source": [
    "plot_improvements_breakdowns(improvements_metrics_df_64, 64)"
   ]
  },
  {
   "cell_type": "code",
   "execution_count": 43,
   "metadata": {
    "tags": []
   },
   "outputs": [],
   "source": [
    "def plot_improvements_breakdowns(df: pd.DataFrame, dimension: int):\n",
    "    cmap = sns.light_palette((20, 60, 50), input=\"husl\", reverse=True, n_colors=1) + \\\n",
    "           sns.light_palette(\"seagreen\", n_colors=600)\n",
    "    ax = sns.heatmap(df, annot=True, cmap=cmap)\n",
    "    ax.set_xlabel(\"Views count bin\")\n",
    "    ax.set_ylabel(\"Diversity bin\")\n",
    "    plt.xticks(rotation=45)\n",
    "    plt.yticks(rotation=0)\n",
    "    plt.tight_layout()\n",
    "    ax.figure.savefig(f\"recall-breakdown-by-diversity-and-voume-{dimension}.png\")"
   ]
  },
  {
   "cell_type": "code",
   "execution_count": 44,
   "metadata": {
    "tags": []
   },
   "outputs": [],
   "source": [
    "improvements_metrics_df_128 = ((metrics_pivot_df_mos_128 - metrics_pivot_df_vanilla_128) / metrics_pivot_df_vanilla_128) * 100"
   ]
  },
  {
   "cell_type": "code",
   "execution_count": 46,
   "metadata": {
    "tags": []
   },
   "outputs": [
    {
     "data": {
      "image/png": "[encoded data removed]",
      "text/plain": [
       "<Figure size 640x480 with 2 Axes>"
      ]
     },
     "metadata": {},
     "output_type": "display_data"
    }
   ],
   "source": [
    "plot_improvements_breakdowns(improvements_metrics_df_128, 128)"
   ]
  },
  {
   "cell_type": "code",
   "execution_count": 47,
   "metadata": {
    "tags": []
   },
   "outputs": [
    {
     "name": "stderr",
     "output_type": "stream",
     "text": [
      "/var/folders/qs/6xx90wmx4y98hnzr7v880j240000gn/T/ipykernel_50500/4043569191.py:10: SettingWithCopyWarning: \n",
      "A value is trying to be set on a copy of a slice from a DataFrame.\n",
      "Try using .loc[row_indexer,col_indexer] = value instead\n",
      "\n",
      "See the caveats in the documentation: https://pandas.pydata.org/pandas-docs/stable/user_guide/indexing.html#returning-a-view-versus-a-copy\n",
      "  pred_df[\"views_count\"] = np.vectorize(get_count)(pred_df[\"label\"]).astype(np.int32)\n",
      "/var/folders/qs/6xx90wmx4y98hnzr7v880j240000gn/T/ipykernel_50500/4043569191.py:14: SettingWithCopyWarning: \n",
      "A value is trying to be set on a copy of a slice from a DataFrame.\n",
      "Try using .loc[row_indexer,col_indexer] = value instead\n",
      "\n",
      "See the caveats in the documentation: https://pandas.pydata.org/pandas-docs/stable/user_guide/indexing.html#returning-a-view-versus-a-copy\n",
      "  pred_df[\"views_count_bin\"] = pd.qcut(pred_df[\"views_count\"], quantiles, precision=0)\n",
      "/var/folders/qs/6xx90wmx4y98hnzr7v880j240000gn/T/ipykernel_50500/4043569191.py:20: SettingWithCopyWarning: \n",
      "A value is trying to be set on a copy of a slice from a DataFrame.\n",
      "Try using .loc[row_indexer,col_indexer] = value instead\n",
      "\n",
      "See the caveats in the documentation: https://pandas.pydata.org/pandas-docs/stable/user_guide/indexing.html#returning-a-view-versus-a-copy\n",
      "  pred_df[\"views_count_bin\"] = pred_df[\"views_count_bin\"].apply(restyle_bin)\n",
      "/var/folders/qs/6xx90wmx4y98hnzr7v880j240000gn/T/ipykernel_50500/4043569191.py:10: SettingWithCopyWarning: \n",
      "A value is trying to be set on a copy of a slice from a DataFrame.\n",
      "Try using .loc[row_indexer,col_indexer] = value instead\n",
      "\n",
      "See the caveats in the documentation: https://pandas.pydata.org/pandas-docs/stable/user_guide/indexing.html#returning-a-view-versus-a-copy\n",
      "  pred_df[\"views_count\"] = np.vectorize(get_count)(pred_df[\"label\"]).astype(np.int32)\n",
      "/var/folders/qs/6xx90wmx4y98hnzr7v880j240000gn/T/ipykernel_50500/4043569191.py:14: SettingWithCopyWarning: \n",
      "A value is trying to be set on a copy of a slice from a DataFrame.\n",
      "Try using .loc[row_indexer,col_indexer] = value instead\n",
      "\n",
      "See the caveats in the documentation: https://pandas.pydata.org/pandas-docs/stable/user_guide/indexing.html#returning-a-view-versus-a-copy\n",
      "  pred_df[\"views_count_bin\"] = pd.qcut(pred_df[\"views_count\"], quantiles, precision=0)\n",
      "/var/folders/qs/6xx90wmx4y98hnzr7v880j240000gn/T/ipykernel_50500/4043569191.py:20: SettingWithCopyWarning: \n",
      "A value is trying to be set on a copy of a slice from a DataFrame.\n",
      "Try using .loc[row_indexer,col_indexer] = value instead\n",
      "\n",
      "See the caveats in the documentation: https://pandas.pydata.org/pandas-docs/stable/user_guide/indexing.html#returning-a-view-versus-a-copy\n",
      "  pred_df[\"views_count_bin\"] = pred_df[\"views_count_bin\"].apply(restyle_bin)\n",
      "/var/folders/qs/6xx90wmx4y98hnzr7v880j240000gn/T/ipykernel_50500/4043569191.py:10: SettingWithCopyWarning: \n",
      "A value is trying to be set on a copy of a slice from a DataFrame.\n",
      "Try using .loc[row_indexer,col_indexer] = value instead\n",
      "\n",
      "See the caveats in the documentation: https://pandas.pydata.org/pandas-docs/stable/user_guide/indexing.html#returning-a-view-versus-a-copy\n",
      "  pred_df[\"views_count\"] = np.vectorize(get_count)(pred_df[\"label\"]).astype(np.int32)\n",
      "/var/folders/qs/6xx90wmx4y98hnzr7v880j240000gn/T/ipykernel_50500/4043569191.py:14: SettingWithCopyWarning: \n",
      "A value is trying to be set on a copy of a slice from a DataFrame.\n",
      "Try using .loc[row_indexer,col_indexer] = value instead\n",
      "\n",
      "See the caveats in the documentation: https://pandas.pydata.org/pandas-docs/stable/user_guide/indexing.html#returning-a-view-versus-a-copy\n",
      "  pred_df[\"views_count_bin\"] = pd.qcut(pred_df[\"views_count\"], quantiles, precision=0)\n",
      "/var/folders/qs/6xx90wmx4y98hnzr7v880j240000gn/T/ipykernel_50500/4043569191.py:20: SettingWithCopyWarning: \n",
      "A value is trying to be set on a copy of a slice from a DataFrame.\n",
      "Try using .loc[row_indexer,col_indexer] = value instead\n",
      "\n",
      "See the caveats in the documentation: https://pandas.pydata.org/pandas-docs/stable/user_guide/indexing.html#returning-a-view-versus-a-copy\n",
      "  pred_df[\"views_count_bin\"] = pred_df[\"views_count_bin\"].apply(restyle_bin)\n",
      "/var/folders/qs/6xx90wmx4y98hnzr7v880j240000gn/T/ipykernel_50500/4043569191.py:10: SettingWithCopyWarning: \n",
      "A value is trying to be set on a copy of a slice from a DataFrame.\n",
      "Try using .loc[row_indexer,col_indexer] = value instead\n",
      "\n",
      "See the caveats in the documentation: https://pandas.pydata.org/pandas-docs/stable/user_guide/indexing.html#returning-a-view-versus-a-copy\n",
      "  pred_df[\"views_count\"] = np.vectorize(get_count)(pred_df[\"label\"]).astype(np.int32)\n",
      "/var/folders/qs/6xx90wmx4y98hnzr7v880j240000gn/T/ipykernel_50500/4043569191.py:14: SettingWithCopyWarning: \n",
      "A value is trying to be set on a copy of a slice from a DataFrame.\n",
      "Try using .loc[row_indexer,col_indexer] = value instead\n",
      "\n",
      "See the caveats in the documentation: https://pandas.pydata.org/pandas-docs/stable/user_guide/indexing.html#returning-a-view-versus-a-copy\n",
      "  pred_df[\"views_count_bin\"] = pd.qcut(pred_df[\"views_count\"], quantiles, precision=0)\n",
      "/var/folders/qs/6xx90wmx4y98hnzr7v880j240000gn/T/ipykernel_50500/4043569191.py:20: SettingWithCopyWarning: \n",
      "A value is trying to be set on a copy of a slice from a DataFrame.\n",
      "Try using .loc[row_indexer,col_indexer] = value instead\n",
      "\n",
      "See the caveats in the documentation: https://pandas.pydata.org/pandas-docs/stable/user_guide/indexing.html#returning-a-view-versus-a-copy\n",
      "  pred_df[\"views_count_bin\"] = pred_df[\"views_count_bin\"].apply(restyle_bin)\n",
      "/var/folders/qs/6xx90wmx4y98hnzr7v880j240000gn/T/ipykernel_50500/4043569191.py:10: SettingWithCopyWarning: \n",
      "A value is trying to be set on a copy of a slice from a DataFrame.\n",
      "Try using .loc[row_indexer,col_indexer] = value instead\n",
      "\n",
      "See the caveats in the documentation: https://pandas.pydata.org/pandas-docs/stable/user_guide/indexing.html#returning-a-view-versus-a-copy\n",
      "  pred_df[\"views_count\"] = np.vectorize(get_count)(pred_df[\"label\"]).astype(np.int32)\n",
      "/var/folders/qs/6xx90wmx4y98hnzr7v880j240000gn/T/ipykernel_50500/4043569191.py:14: SettingWithCopyWarning: \n",
      "A value is trying to be set on a copy of a slice from a DataFrame.\n",
      "Try using .loc[row_indexer,col_indexer] = value instead\n",
      "\n",
      "See the caveats in the documentation: https://pandas.pydata.org/pandas-docs/stable/user_guide/indexing.html#returning-a-view-versus-a-copy\n",
      "  pred_df[\"views_count_bin\"] = pd.qcut(pred_df[\"views_count\"], quantiles, precision=0)\n",
      "/var/folders/qs/6xx90wmx4y98hnzr7v880j240000gn/T/ipykernel_50500/4043569191.py:20: SettingWithCopyWarning: \n",
      "A value is trying to be set on a copy of a slice from a DataFrame.\n",
      "Try using .loc[row_indexer,col_indexer] = value instead\n",
      "\n",
      "See the caveats in the documentation: https://pandas.pydata.org/pandas-docs/stable/user_guide/indexing.html#returning-a-view-versus-a-copy\n",
      "  pred_df[\"views_count_bin\"] = pred_df[\"views_count_bin\"].apply(restyle_bin)\n",
      "/var/folders/qs/6xx90wmx4y98hnzr7v880j240000gn/T/ipykernel_50500/4043569191.py:10: SettingWithCopyWarning: \n",
      "A value is trying to be set on a copy of a slice from a DataFrame.\n",
      "Try using .loc[row_indexer,col_indexer] = value instead\n",
      "\n",
      "See the caveats in the documentation: https://pandas.pydata.org/pandas-docs/stable/user_guide/indexing.html#returning-a-view-versus-a-copy\n",
      "  pred_df[\"views_count\"] = np.vectorize(get_count)(pred_df[\"label\"]).astype(np.int32)\n",
      "/var/folders/qs/6xx90wmx4y98hnzr7v880j240000gn/T/ipykernel_50500/4043569191.py:14: SettingWithCopyWarning: \n",
      "A value is trying to be set on a copy of a slice from a DataFrame.\n",
      "Try using .loc[row_indexer,col_indexer] = value instead\n",
      "\n",
      "See the caveats in the documentation: https://pandas.pydata.org/pandas-docs/stable/user_guide/indexing.html#returning-a-view-versus-a-copy\n",
      "  pred_df[\"views_count_bin\"] = pd.qcut(pred_df[\"views_count\"], quantiles, precision=0)\n",
      "/var/folders/qs/6xx90wmx4y98hnzr7v880j240000gn/T/ipykernel_50500/4043569191.py:20: SettingWithCopyWarning: \n",
      "A value is trying to be set on a copy of a slice from a DataFrame.\n",
      "Try using .loc[row_indexer,col_indexer] = value instead\n",
      "\n",
      "See the caveats in the documentation: https://pandas.pydata.org/pandas-docs/stable/user_guide/indexing.html#returning-a-view-versus-a-copy\n",
      "  pred_df[\"views_count_bin\"] = pred_df[\"views_count_bin\"].apply(restyle_bin)\n"
     ]
    },
    {
     "data": {
      "text/html": [
       "<div>\n",
       "<style scoped>\n",
       "    .dataframe tbody tr th:only-of-type {\n",
       "        vertical-align: middle;\n",
       "    }\n",
       "\n",
       "    .dataframe tbody tr th {\n",
       "        vertical-align: top;\n",
       "    }\n",
       "\n",
       "    .dataframe thead th {\n",
       "        text-align: right;\n",
       "    }\n",
       "</style>\n",
       "<table border=\"1\" class=\"dataframe\">\n",
       "  <thead>\n",
       "    <tr style=\"text-align: right;\">\n",
       "      <th></th>\n",
       "      <th>views_count_bin</th>\n",
       "      <th>views_count</th>\n",
       "      <th>Recall@100</th>\n",
       "      <th>softmax_type</th>\n",
       "    </tr>\n",
       "  </thead>\n",
       "  <tbody>\n",
       "    <tr>\n",
       "      <th>0</th>\n",
       "      <td>(814, 71317]</td>\n",
       "      <td>2236489</td>\n",
       "      <td>0.956524</td>\n",
       "      <td>vanilla-32</td>\n",
       "    </tr>\n",
       "    <tr>\n",
       "      <th>0</th>\n",
       "      <td>(814, 71317]</td>\n",
       "      <td>2236489</td>\n",
       "      <td>0.962439</td>\n",
       "      <td>mos-32</td>\n",
       "    </tr>\n",
       "    <tr>\n",
       "      <th>0</th>\n",
       "      <td>(814, 71317]</td>\n",
       "      <td>2236489</td>\n",
       "      <td>0.967429</td>\n",
       "      <td>vanilla-64</td>\n",
       "    </tr>\n",
       "    <tr>\n",
       "      <th>0</th>\n",
       "      <td>(814, 71317]</td>\n",
       "      <td>2236489</td>\n",
       "      <td>0.971870</td>\n",
       "      <td>mos-64</td>\n",
       "    </tr>\n",
       "    <tr>\n",
       "      <th>0</th>\n",
       "      <td>(814, 71317]</td>\n",
       "      <td>2236489</td>\n",
       "      <td>0.973753</td>\n",
       "      <td>vanilla-128</td>\n",
       "    </tr>\n",
       "    <tr>\n",
       "      <th>0</th>\n",
       "      <td>(814, 71317]</td>\n",
       "      <td>2236489</td>\n",
       "      <td>0.976867</td>\n",
       "      <td>mos-128</td>\n",
       "    </tr>\n",
       "  </tbody>\n",
       "</table>\n",
       "</div>"
      ],
      "text/plain": [
       "  views_count_bin  views_count  Recall@100 softmax_type\n",
       "0    (814, 71317]      2236489    0.956524   vanilla-32\n",
       "0    (814, 71317]      2236489    0.962439       mos-32\n",
       "0    (814, 71317]      2236489    0.967429   vanilla-64\n",
       "0    (814, 71317]      2236489    0.971870       mos-64\n",
       "0    (814, 71317]      2236489    0.973753  vanilla-128\n",
       "0    (814, 71317]      2236489    0.976867      mos-128"
      ]
     },
     "execution_count": 47,
     "metadata": {},
     "output_type": "execute_result"
    }
   ],
   "source": [
    "pred_df_list = [\n",
    "    (pred_df_vanilla_32[pred_df_vanilla_32[\"views_count\"] > 814], \"vanilla-32\"),\n",
    "    (pred_df_mos_32[pred_df_mos_32[\"views_count\"] > 814], \"mos-32\"),\n",
    "    (pred_df_vanilla_64[pred_df_vanilla_64[\"views_count\"] > 814], \"vanilla-64\"),\n",
    "    (pred_df_mos_64[pred_df_mos_64[\"views_count\"] > 814], \"mos-64\"),\n",
    "    (pred_df_vanilla_128[pred_df_vanilla_128[\"views_count\"] > 814], \"vanilla-128\"),\n",
    "    (pred_df_mos_128[pred_df_mos_128[\"views_count\"] > 814], \"mos-128\"),\n",
    "]\n",
    "compute_all_metrics_by_view_counts(pred_df_list, quantiles=[0, 1])"
   ]
  },
  {
   "cell_type": "code",
   "execution_count": 49,
   "metadata": {
    "tags": []
   },
   "outputs": [
    {
     "name": "stdout",
     "output_type": "stream",
     "text": [
      "increase_32: 0.618\n",
      "increase_64: 0.459\n",
      "increase_128: 0.320\n"
     ]
    }
   ],
   "source": [
    "increase_32 = ((0.962439 - 0.956524) / 0.956524) * 100\n",
    "increase_64 = ((0.971870 - 0.967429) / 0.967429) * 100\n",
    "increase_128 = ((0.976867 - 0.973753) / 0.973753) * 100\n",
    "print(f\"increase_32: {increase_32:.3f}\")\n",
    "print(f\"increase_64: {increase_64:.3f}\")\n",
    "print(f\"increase_128: {increase_128:.3f}\")"
   ]
  },
  {
   "cell_type": "code",
   "execution_count": null,
   "metadata": {},
   "outputs": [],
   "source": []
  }
 ],
 "metadata": {
  "accelerator": "GPU",
  "colab": {
   "machine_shape": "hm",
   "provenance": []
  },
  "kernelspec": {
   "display_name": "Python [conda env:mos-m2]",
   "language": "python",
   "name": "conda-env-mos-m2-py"
  },
  "language_info": {
   "codemirror_mode": {
    "name": "ipython",
    "version": 3
   },
   "file_extension": ".py",
   "mimetype": "text/x-python",
   "name": "python",
   "nbconvert_exporter": "python",
   "pygments_lexer": "ipython3",
   "version": "3.9.16"
  }
 },
 "nbformat": 4,
 "nbformat_minor": 4
}
